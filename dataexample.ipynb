{
 "cells": [
  {
   "cell_type": "markdown",
   "id": "e675e81c-1016-49b7-9477-c5bdb844e36a",
   "metadata": {},
   "source": [
    "# Model Data\n",
    "\n",
    "Demonstrating *what* data you can get from the model"
   ]
  },
  {
   "cell_type": "code",
   "execution_count": 2,
   "id": "00e3888d-fca3-4d4d-9d31-1d3642b38fc9",
   "metadata": {},
   "outputs": [
    {
     "name": "stderr",
     "output_type": "stream",
     "text": [
      "100%|█████████████████████████████████████████████████████████████████████████████████████████████████| 10/10 [00:28<00:00,  2.88s/it]"
     ]
    },
    {
     "name": "stdout",
     "output_type": "stream",
     "text": [
      "     TotalAssets\n",
      "0   11000.000000\n",
      "1   10498.719170\n",
      "2   10175.671852\n",
      "3    9796.843314\n",
      "4    9471.194979\n",
      "5    9192.309693\n",
      "6    8886.960291\n",
      "7    8588.006307\n",
      "8    8361.041596\n",
      "9    8140.618587\n",
      "10   7956.132434\n",
      "    step  uid      equity  deposits  loans   reserves  total_assets  \\\n",
      "0      0    1  115.229412       975    997  33.370000   1030.370000   \n",
      "1      0    2  112.121533       954    965  39.110000   1004.110000   \n",
      "2      0    3  114.359223      1007   1015  44.360000   1059.360000   \n",
      "3      0    4   43.939480       989    993  39.939480   1032.939480   \n",
      "4      0    5  112.845959       975    993  31.460000   1024.460000   \n",
      "..   ...  ...         ...       ...    ...        ...           ...   \n",
      "95     9    7  148.406646      1002    621  65.124899    687.100000   \n",
      "96     9    9  174.250183      1084    669  66.082868    735.925000   \n",
      "97     9   10   39.453401       994    998  35.453401   1033.453401   \n",
      "98     9    4   38.944033       972    956  54.424039   1010.944033   \n",
      "99     9    8  186.543502       972    666  39.920000    705.920000   \n",
      "\n",
      "    provisions  new_provisions  ib_credits  ...  cum_dividend  \\\n",
      "0    29.063189       29.063189         0.0  ...      0.000000   \n",
      "1    28.772636       28.772636         0.0  ...      0.000000   \n",
      "2    29.733948       29.733948         0.0  ...      0.000000   \n",
      "3    29.209584       29.006042         0.0  ...     61.408935   \n",
      "4    29.672019       29.672019         0.0  ...      0.000000   \n",
      "..         ...             ...         ...  ...           ...   \n",
      "95   14.541092       14.541092         0.0  ...      0.000000   \n",
      "96   17.018794       17.018794         0.0  ...      0.000000   \n",
      "97   26.461777       24.923452         0.0  ...    142.505391   \n",
      "98   25.582379       24.517608         0.0  ...    133.255777   \n",
      "99   17.070270       17.070270         0.0  ...      0.000000   \n",
      "\n",
      "    deposit_outflow  deposit_inflow  net_deposit_flow  defaulted_loans  \\\n",
      "0                 0               0                 0               45   \n",
      "1                 0               0                 0               50   \n",
      "2                 0               0                 0               48   \n",
      "3                 0               0                 0               62   \n",
      "4                 0               0                 0               51   \n",
      "..              ...             ...               ...              ...   \n",
      "95                0               0                 0              385   \n",
      "96                0               0                 0              393   \n",
      "97                0               0                 0              493   \n",
      "98                0               0                 0              483   \n",
      "99                0               0                 0              394   \n",
      "\n",
      "    bank_solvent  capitalized  credit_failure  liquidity_failure  \\\n",
      "0              1            1               0                  0   \n",
      "1              1            1               0                  0   \n",
      "2              1            1               0                  0   \n",
      "3              1            1               0                  0   \n",
      "4              1            1               0                  0   \n",
      "..           ...          ...             ...                ...   \n",
      "95             1            1               0                  0   \n",
      "96             1            1               0                  0   \n",
      "97             1            1               0                  0   \n",
      "98             1            1               0                  0   \n",
      "99             1            1               0                  0   \n",
      "\n",
      "    reserve_ratio  \n",
      "0        0.034226  \n",
      "1        0.040996  \n",
      "2        0.044052  \n",
      "3        0.040384  \n",
      "4        0.032267  \n",
      "..            ...  \n",
      "95       0.064995  \n",
      "96       0.060962  \n",
      "97       0.035667  \n",
      "98       0.055992  \n",
      "99       0.041070  \n",
      "\n",
      "[100 rows x 30 columns]\n"
     ]
    },
    {
     "name": "stderr",
     "output_type": "stream",
     "text": [
      "\n"
     ]
    }
   ],
   "source": [
    "from abba.model import BankSim\n",
    "\n",
    "sim = BankSim(num_steps=10)\n",
    "sim.run_model()\n",
    "\n",
    "bank_data = sim.get_bank_data_frame()\n",
    "bank_data.loc[:, \"reserve_ratio\"] = bank_data[bank_data.deposits > 0].apply(\n",
    "    lambda x: x[\"reserves\"] / x[\"deposits\"], axis=1\n",
    ")\n",
    "\n",
    "print(sim.get_data_frame())\n",
    "print(bank_data)"
   ]
  },
  {
   "cell_type": "code",
   "execution_count": null,
   "id": "4fc6bdce-c2ff-4cfc-bb46-e7f7c31b7fd2",
   "metadata": {},
   "outputs": [],
   "source": []
  }
 ],
 "metadata": {
  "kernelspec": {
   "display_name": "Python 3 (ipykernel)",
   "language": "python",
   "name": "python3"
  },
  "language_info": {
   "codemirror_mode": {
    "name": "ipython",
    "version": 3
   },
   "file_extension": ".py",
   "mimetype": "text/x-python",
   "name": "python",
   "nbconvert_exporter": "python",
   "pygments_lexer": "ipython3",
   "version": "3.9.11"
  }
 },
 "nbformat": 4,
 "nbformat_minor": 5
}
