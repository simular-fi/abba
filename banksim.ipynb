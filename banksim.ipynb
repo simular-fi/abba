{
 "cells": [
  {
   "cell_type": "markdown",
   "id": "24d8f856-0ef9-4689-a9aa-afa9e1978d32",
   "metadata": {},
   "source": [
    "# Initital integration of ABBA with JupyterViz\n",
    "\n",
    "*Work in progress*"
   ]
  },
  {
   "cell_type": "code",
   "execution_count": 7,
   "id": "7362706d-432d-450e-9e35-04970ba1c655",
   "metadata": {},
   "outputs": [],
   "source": [
    "import solara\n",
    "import networkx as nx\n",
    "import seaborn as sns\n",
    "from matplotlib.figure import Figure\n",
    "from mesa.experimental import JupyterViz\n",
    "from abba.model import BankSim, ModelConfig\n",
    "\n",
    "from dataclasses import asdict\n",
    "\n",
    "# We set the seaborn theme to make the graphs a bit nicer. This is optional\n",
    "sns.set_theme()"
   ]
  },
  {
   "cell_type": "code",
   "execution_count": 8,
   "id": "95b61d32-4e5b-4da1-8f86-58fc4061f989",
   "metadata": {},
   "outputs": [],
   "source": [
    "# Draw a graph as a ring. We plug this in to the 'space_drawer' key in JupyterViz.\n",
    "# Note the function signature takes 2 parameters.  'agent_portrayals' is a dict\n",
    "# used to configure any '**kwargs* values for nx.\n",
    "def circular_graph(model, agent_portrayal):\n",
    "    fig = Figure()\n",
    "    space_ax = fig.subplots()\n",
    "    nx.draw_circular(\n",
    "        model.G,\n",
    "        ax=space_ax, \n",
    "        **agent_portrayal)\n",
    "    solara.FigureMatplotlib(fig)"
   ]
  },
  {
   "cell_type": "code",
   "execution_count": 9,
   "id": "a9559655-0f8e-4ece-a578-06e048171f4a",
   "metadata": {},
   "outputs": [
    {
     "data": {
      "application/vnd.jupyter.widget-view+json": {
       "model_id": "2c5493bed46941149c129c03878bc93e",
       "version_major": 2,
       "version_minor": 0
      },
      "text/html": [
       "Cannot show widget. You probably want to rerun the code cell above (<i>Click in the code cell, and press Shift+Enter <kbd>⇧</kbd>+<kbd>↩</kbd></i>)."
      ],
      "text/plain": [
       "Cannot show ipywidgets in text"
      ]
     },
     "metadata": {},
     "output_type": "display_data"
    }
   ],
   "source": [
    "# this gets plugged into our circular graph. The setting value are defined in nx\n",
    "graph_opts = {\n",
    "    \"style\": \"dashed\", \n",
    "    \"width\": 2.0, \n",
    "    \"node_color\": \"b\", \n",
    "    \"edge_color\": \"r\"\n",
    "}\n",
    "\n",
    "\n",
    "page = JupyterViz(\n",
    "    BankSim,\n",
    "    {},\n",
    "    measures=[\"TotalAssets\"],\n",
    "    space_drawer=circular_graph,\n",
    "    name=\"ABBA: An Agent-Based Model of the Banking System\",\n",
    "    agent_portrayal=graph_opts,\n",
    ")\n",
    "\n",
    "page"
   ]
  },
  {
   "cell_type": "code",
   "execution_count": null,
   "id": "b7b9bf86-0906-465f-ad07-036eefa97ded",
   "metadata": {},
   "outputs": [],
   "source": []
  }
 ],
 "metadata": {
  "kernelspec": {
   "display_name": "Python 3 (ipykernel)",
   "language": "python",
   "name": "python3"
  },
  "language_info": {
   "codemirror_mode": {
    "name": "ipython",
    "version": 3
   },
   "file_extension": ".py",
   "mimetype": "text/x-python",
   "name": "python",
   "nbconvert_exporter": "python",
   "pygments_lexer": "ipython3",
   "version": "3.9.11"
  }
 },
 "nbformat": 4,
 "nbformat_minor": 5
}
